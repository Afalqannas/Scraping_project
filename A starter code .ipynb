{
 "cells": [
  {
   "cell_type": "markdown",
   "metadata": {},
   "source": [
    "## Exploratory Analysis\n",
    "To begin this exploratory analysis, first import libraries and define functions for plotting the data using `matplotlib`. Depending on the data, not all plots will be made."
   ]
  },
  {
   "cell_type": "code",
   "execution_count": 22,
   "metadata": {
    "_kg_hide-input": false
   },
   "outputs": [],
   "source": [
    "import matplotlib.pyplot as plt # plotting\n",
    "import numpy as np # linear algebra\n",
    "import pandas as pd"
   ]
  },
  {
   "cell_type": "code",
   "execution_count": 23,
   "metadata": {
    "_kg_hide-input": true
   },
   "outputs": [],
   "source": [
    "# Distribution graphs (histogram/bar graph) of column data\n",
    "def plotPerColumnDistribution(df, nGraphShown, nGraphPerRow):\n",
    "    nunique = df.nunique()\n",
    "    df = df[[col for col in df if nunique[col] > 1 and nunique[col] < 50]] # For displaying purposes, pick columns that have between 1 and 50 unique values\n",
    "    nRow, nCol = df.shape\n",
    "    columnNames = list(df)\n",
    "    nGraphRow = (nCol + nGraphPerRow - 1) / nGraphPerRow\n",
    "    plt.figure(num = None, figsize = (6 * nGraphPerRow, 8 * nGraphRow), dpi = 80, facecolor = 'w', edgecolor = 'k')\n",
    "    for i in range(min(nCol, nGraphShown)):\n",
    "        plt.subplot(nGraphRow, nGraphPerRow, i + 1)\n",
    "        columnDf = df.iloc[:, i]\n",
    "        if (not np.issubdtype(type(columnDf.iloc[0]), np.number)):\n",
    "            valueCounts = columnDf.value_counts()\n",
    "            valueCounts.plot.bar()\n",
    "        else:\n",
    "            columnDf.hist()\n",
    "        plt.ylabel('counts')\n",
    "        plt.xticks(rotation = 90)\n",
    "        plt.title(f'{columnNames[i]} (column {i})')\n",
    "    plt.tight_layout(pad = 1.0, w_pad = 1.0, h_pad = 1.0)\n",
    "    plt.show()\n"
   ]
  },
  {
   "cell_type": "markdown",
   "metadata": {},
   "source": [
    "### Load ssd_reviews.csv file"
   ]
  },
  {
   "cell_type": "code",
   "execution_count": 24,
   "metadata": {
    "_kg_hide-input": false
   },
   "outputs": [
    {
     "name": "stdout",
     "output_type": "stream",
     "text": [
      "There are 2227 rows and 11 columns\n"
     ]
    }
   ],
   "source": [
    "df1 = pd.read_csv('ssd_reviews.csv')\n",
    "nRow, nCol = df1.shape\n",
    "print(f'There are {nRow} rows and {nCol} columns')\n",
    "df1.drop(columns='Unnamed: 0', axis=1, inplace=True)"
   ]
  },
  {
   "cell_type": "markdown",
   "metadata": {},
   "source": [
    "Let's take a quick look at what the data looks like:"
   ]
  },
  {
   "cell_type": "code",
   "execution_count": 25,
   "metadata": {
    "_kg_hide-input": false
   },
   "outputs": [
    {
     "data": {
      "text/html": [
       "<div>\n",
       "<style scoped>\n",
       "    .dataframe tbody tr th:only-of-type {\n",
       "        vertical-align: middle;\n",
       "    }\n",
       "\n",
       "    .dataframe tbody tr th {\n",
       "        vertical-align: top;\n",
       "    }\n",
       "\n",
       "    .dataframe thead th {\n",
       "        text-align: right;\n",
       "    }\n",
       "</style>\n",
       "<table border=\"1\" class=\"dataframe\">\n",
       "  <thead>\n",
       "    <tr style=\"text-align: right;\">\n",
       "      <th></th>\n",
       "      <th>review_title</th>\n",
       "      <th>overall_review</th>\n",
       "      <th>pros</th>\n",
       "      <th>cons</th>\n",
       "      <th>ownership_pariod</th>\n",
       "      <th>date</th>\n",
       "      <th>rating_stars</th>\n",
       "      <th>year</th>\n",
       "      <th>month</th>\n",
       "      <th>day</th>\n",
       "    </tr>\n",
       "  </thead>\n",
       "  <tbody>\n",
       "    <tr>\n",
       "      <th>0</th>\n",
       "      <td>solid</td>\n",
       "      <td>buy it you will not regret this purchase</td>\n",
       "      <td>reliable fast silent cool running drive highly...</td>\n",
       "      <td>NaN</td>\n",
       "      <td>years</td>\n",
       "      <td>2019-12-05 12:58:58</td>\n",
       "      <td>5</td>\n",
       "      <td>2019</td>\n",
       "      <td>12</td>\n",
       "      <td>5</td>\n",
       "    </tr>\n",
       "    <tr>\n",
       "      <th>1</th>\n",
       "      <td>nice drive for price even cheaper by todays costs</td>\n",
       "      <td>good drive price</td>\n",
       "      <td>been running almost constantly since when i pu...</td>\n",
       "      <td>NaN</td>\n",
       "      <td>years</td>\n",
       "      <td>2019-11-01 08:25:45</td>\n",
       "      <td>5</td>\n",
       "      <td>2019</td>\n",
       "      <td>11</td>\n",
       "      <td>1</td>\n",
       "    </tr>\n",
       "    <tr>\n",
       "      <th>2</th>\n",
       "      <td>perfect</td>\n",
       "      <td>used this drive as my boot drive and only data...</td>\n",
       "      <td>good value decently fast good longevity</td>\n",
       "      <td>none so far</td>\n",
       "      <td>years</td>\n",
       "      <td>2019-10-27 17:05:49</td>\n",
       "      <td>5</td>\n",
       "      <td>2019</td>\n",
       "      <td>10</td>\n",
       "      <td>27</td>\n",
       "    </tr>\n",
       "    <tr>\n",
       "      <th>3</th>\n",
       "      <td>very snappy</td>\n",
       "      <td>os boots quicker os menus pop up quicker gamin...</td>\n",
       "      <td>noticeable improvement in os performance over ...</td>\n",
       "      <td>samsung magician software causes some games to...</td>\n",
       "      <td>years</td>\n",
       "      <td>2019-10-24 18:29:43</td>\n",
       "      <td>5</td>\n",
       "      <td>2019</td>\n",
       "      <td>10</td>\n",
       "      <td>24</td>\n",
       "    </tr>\n",
       "    <tr>\n",
       "      <th>4</th>\n",
       "      <td>worth the hype</td>\n",
       "      <td>this was the sdd that everyone said to get and...</td>\n",
       "      <td>NaN</td>\n",
       "      <td>NaN</td>\n",
       "      <td>years</td>\n",
       "      <td>2019-09-11 19:21:03</td>\n",
       "      <td>5</td>\n",
       "      <td>2019</td>\n",
       "      <td>9</td>\n",
       "      <td>11</td>\n",
       "    </tr>\n",
       "  </tbody>\n",
       "</table>\n",
       "</div>"
      ],
      "text/plain": [
       "                                        review_title  \\\n",
       "0                                              solid   \n",
       "1  nice drive for price even cheaper by todays costs   \n",
       "2                                            perfect   \n",
       "3                                        very snappy   \n",
       "4                                     worth the hype   \n",
       "\n",
       "                                      overall_review  \\\n",
       "0           buy it you will not regret this purchase   \n",
       "1                                   good drive price   \n",
       "2  used this drive as my boot drive and only data...   \n",
       "3  os boots quicker os menus pop up quicker gamin...   \n",
       "4  this was the sdd that everyone said to get and...   \n",
       "\n",
       "                                                pros  \\\n",
       "0  reliable fast silent cool running drive highly...   \n",
       "1  been running almost constantly since when i pu...   \n",
       "2            good value decently fast good longevity   \n",
       "3  noticeable improvement in os performance over ...   \n",
       "4                                                NaN   \n",
       "\n",
       "                                                cons ownership_pariod  \\\n",
       "0                                                NaN            years   \n",
       "1                                                NaN            years   \n",
       "2                                        none so far            years   \n",
       "3  samsung magician software causes some games to...            years   \n",
       "4                                                NaN            years   \n",
       "\n",
       "                  date  rating_stars  year  month  day  \n",
       "0  2019-12-05 12:58:58             5  2019     12    5  \n",
       "1  2019-11-01 08:25:45             5  2019     11    1  \n",
       "2  2019-10-27 17:05:49             5  2019     10   27  \n",
       "3  2019-10-24 18:29:43             5  2019     10   24  \n",
       "4  2019-09-11 19:21:03             5  2019      9   11  "
      ]
     },
     "execution_count": 25,
     "metadata": {},
     "output_type": "execute_result"
    }
   ],
   "source": [
    "df1.head()"
   ]
  },
  {
   "cell_type": "markdown",
   "metadata": {},
   "source": [
    "## Exploratory analysis"
   ]
  },
  {
   "cell_type": "markdown",
   "metadata": {},
   "source": [
    "Distribution graphs (histogram/bar graph) of sampled columns:"
   ]
  },
  {
   "cell_type": "code",
   "execution_count": 26,
   "metadata": {
    "_kg_hide-input": false
   },
   "outputs": [
    {
     "data": {
      "image/png": "[encoded data removed]",
      "text/plain": [
       "<Figure size 2400x1152 with 5 Axes>"
      ]
     },
     "metadata": {},
     "output_type": "display_data"
    }
   ],
   "source": [
    "plotPerColumnDistribution(df1, 10, 5)"
   ]
  },
  {
   "cell_type": "code",
   "execution_count": 29,
   "metadata": {},
   "outputs": [
    {
     "data": {
      "text/plain": [
       "month    717\n",
       "year     708\n",
       "week     440\n",
       "years    222\n",
       "day       72\n",
       "Name: ownership_pariod, dtype: int64"
      ]
     },
     "execution_count": 29,
     "metadata": {},
     "output_type": "execute_result"
    }
   ],
   "source": [
    "df1['ownership_pariod'].value_counts()   #Look at data_description.txt file for more information"
   ]
  },
  {
   "cell_type": "code",
   "execution_count": 30,
   "metadata": {},
   "outputs": [
    {
     "data": {
      "text/plain": [
       "5    1756\n",
       "4     181\n",
       "1     153\n",
       "3      77\n",
       "2      60\n",
       "Name: rating_stars, dtype: int64"
      ]
     },
     "execution_count": 30,
     "metadata": {},
     "output_type": "execute_result"
    }
   ],
   "source": [
    "df1['rating_stars'].value_counts()   #Look at data_description.txt file for more information"
   ]
  },
  {
   "cell_type": "code",
   "execution_count": 31,
   "metadata": {},
   "outputs": [
    {
     "data": {
      "text/plain": [
       "2015    1006\n",
       "2016     605\n",
       "2017     370\n",
       "2018     187\n",
       "2019      46\n",
       "2014      13\n",
       "Name: year, dtype: int64"
      ]
     },
     "execution_count": 31,
     "metadata": {},
     "output_type": "execute_result"
    }
   ],
   "source": [
    "df1['year'].value_counts()   #Look at data_description.txt file for more information"
   ]
  },
  {
   "cell_type": "code",
   "execution_count": 34,
   "metadata": {},
   "outputs": [
    {
     "data": {
      "text/plain": [
       "12    278\n",
       "2     239\n",
       "3     234\n",
       "1     221\n",
       "4     205\n",
       "11    191\n",
       "5     158\n",
       "9     157\n",
       "7     144\n",
       "10    141\n",
       "6     140\n",
       "8     119\n",
       "Name: month, dtype: int64"
      ]
     },
     "execution_count": 34,
     "metadata": {},
     "output_type": "execute_result"
    }
   ],
   "source": [
    "df1['month'].value_counts()   #Look at data_description.txt file for more information"
   ]
  },
  {
   "cell_type": "code",
   "execution_count": 35,
   "metadata": {},
   "outputs": [
    {
     "data": {
      "text/plain": [
       "27    88\n",
       "4     88\n",
       "12    88\n",
       "3     87\n",
       "10    84\n",
       "20    84\n",
       "13    84\n",
       "8     82\n",
       "29    80\n",
       "21    77\n",
       "26    77\n",
       "30    76\n",
       "16    75\n",
       "7     75\n",
       "23    75\n",
       "15    71\n",
       "17    71\n",
       "28    70\n",
       "24    70\n",
       "19    70\n",
       "22    69\n",
       "18    69\n",
       "6     65\n",
       "1     65\n",
       "9     64\n",
       "2     58\n",
       "5     58\n",
       "25    58\n",
       "14    57\n",
       "11    53\n",
       "31    39\n",
       "Name: day, dtype: int64"
      ]
     },
     "execution_count": 35,
     "metadata": {},
     "output_type": "execute_result"
    }
   ],
   "source": [
    "df1['day'].value_counts()   #Look at data_description.txt file for more information"
   ]
  },
  {
   "cell_type": "markdown",
   "metadata": {},
   "source": [
    "# Suggestions :"
   ]
  },
  {
   "cell_type": "markdown",
   "metadata": {},
   "source": [
    "<b> Suggestions for modeling: <br>\n",
    "create two additional columns, the first one contains both (pros and cons) in the same column, and the second column contains (0 and 1), So if the value in the new column (pros and cons) is pros then put 1, And if the value is cons then put 0 </b>"
   ]
  },
  {
   "cell_type": "markdown",
   "metadata": {},
   "source": [
    "<b> Since we have pros and cons data, we don't need to add more products to the dataset, Because when we want to do a Sentiment analysis, the pros and cons will be in the same column, So the Sentiment analysis training will consider cons as negative and pros as positive, And from that our model will be balanced.</b>"
   ]
  },
  {
   "cell_type": "markdown",
   "metadata": {},
   "source": [
    "#### Enjoy modeling .."
   ]
  }
 ],
 "metadata": {
  "kernelspec": {
   "display_name": "Python 3",
   "language": "python",
   "name": "python3"
  },
  "language_info": {
   "codemirror_mode": {
    "name": "ipython",
    "version": 3
   },
   "file_extension": ".py",
   "mimetype": "text/x-python",
   "name": "python",
   "nbconvert_exporter": "python",
   "pygments_lexer": "ipython3",
   "version": "3.7.6"
  }
 },
 "nbformat": 4,
 "nbformat_minor": 4
}
